{
 "cells": [
  {
   "cell_type": "markdown",
   "metadata": {},
   "source": [
    "# Getting data from supermetrics\n",
    "\n",
    "Follow tutorial https://supermetrics.com/blog/how-to-load-data-into-mysql\n",
    "\n",
    "urls are stored in 'constants.py', which will not be pushed into the repo"
   ]
  },
  {
   "cell_type": "code",
   "execution_count": 1,
   "metadata": {},
   "outputs": [],
   "source": [
    "import requests\n",
    "import urllib.parse as up\n",
    "import json\n",
    "from pandas.io.json import json_normalize\n",
    "import pandas as pd\n",
    "import numpy as np\n",
    "from matplotlib import pyplot as plt \n",
    "\n",
    "import constants_MT"
   ]
  },
  {
   "cell_type": "code",
   "execution_count": 2,
   "metadata": {},
   "outputs": [],
   "source": [
    "# import urls \n",
    "url_1month = constants_MT.url_1month\n",
    "url_3months = constants_MT.url_3months\n",
    "url_6months = constants_MT.url_6months\n",
    "url_12months = constants_MT.url_12months\n",
    "url_last3months = constants_MT.url_last3months\n",
    "#print(url_1month)"
   ]
  },
  {
   "cell_type": "code",
   "execution_count": 3,
   "metadata": {},
   "outputs": [],
   "source": [
    "# call API - necessary to access data \n",
    "response_1month = requests.get(url_1month)\n",
    "response_3months = requests.get(url_3months)\n",
    "response_6months = requests.get(url_6months)\n",
    "response_12months = requests.get(url_12months)\n",
    "response_last3months = requests.get(url_last3months)"
   ]
  },
  {
   "cell_type": "code",
   "execution_count": 4,
   "metadata": {},
   "outputs": [
    {
     "name": "stdout",
     "output_type": "stream",
     "text": [
      "<Response [200]>\n",
      "<Response [200]>\n",
      "<Response [200]>\n",
      "<Response [200]>\n",
      "<Response [200]>\n"
     ]
    }
   ],
   "source": [
    "# check response from supermetrics \n",
    "responses = [response_1month, response_3months, response_6months, response_12months, response_last3months]\n",
    "\n",
    "for r in responses:\n",
    "    print(r)"
   ]
  },
  {
   "cell_type": "code",
   "execution_count": 5,
   "metadata": {},
   "outputs": [],
   "source": [
    "# function to create dataframe from url data \n",
    "def url_to_df (url, response): \n",
    "    if 'data/json?' in url:\n",
    "        # convert json into pandas df \n",
    "        data = json.loads(json.dumps(response.json()))\n",
    "        df = pd.DataFrame.from_dict(data['data'])\n",
    "        headers = df.iloc[0]\n",
    "        df2 = pd.DataFrame(df.values[1:], columns=headers)\n",
    "        #df2.head()\n",
    "        #print(df2.head())\n",
    "    elif 'data/keyjson?' in url:\n",
    "        # CONVERT JSON KEY-VALUE PAIR OUTPUT TO PD DF\n",
    "        df2 = pd.read_json(json.dumps(response.json()))\n",
    "        #df2.head()\n",
    "        #print(df2.head())\n",
    "    else:\n",
    "        # THROW EXCEPTION MESSAGE\n",
    "        import sys\n",
    "        sys.exit(\"DEFINE JSON OR KEYJSON AS OUTPUT FORMAT: https://supermetrics.com/docs/product-api-output-formats/\")\n",
    "    return df2     "
   ]
  },
  {
   "cell_type": "code",
   "execution_count": 6,
   "metadata": {},
   "outputs": [],
   "source": [
    "# create dataframes of different time ranges \n",
    "df_1month = url_to_df(url_1month, response_1month)\n",
    "df_3months = url_to_df(url_3months, response_3months)\n",
    "df_6months = url_to_df(url_6months, response_6months)\n",
    "df_12months = url_to_df(url_12months, response_12months)\n",
    "df_last3months = url_to_df(url_last3months, response_last3months)"
   ]
  },
  {
   "cell_type": "markdown",
   "metadata": {},
   "source": [
    "TODOS \n",
    "* descriptive analysis - table format? \n",
    "    - Clients per day/week/month \n",
    "    - Transactions per day/week/month "
   ]
  },
  {
   "cell_type": "code",
   "execution_count": 7,
   "metadata": {},
   "outputs": [],
   "source": [
    "# function to convert data to correct format\n",
    "def transform_class (df):\n",
    "    # to datetime\n",
    "    df['Date'] = pd.to_datetime(df['Date'])\n",
    "    # to numeric \n",
    "    df['Users'] = pd.to_numeric(df['Users'],errors = 'coerce')\n",
    "    df['Transactions'] = pd.to_numeric(df['Transactions'],errors = 'coerce')\n",
    "    df['Transaction revenue'] = pd.to_numeric(df['Transaction revenue'],errors = 'coerce')\n",
    "    \n",
    "    return (df)"
   ]
  },
  {
   "cell_type": "code",
   "execution_count": 8,
   "metadata": {},
   "outputs": [],
   "source": [
    "df_1month = transform_class(df_1month)\n",
    "df_3months = transform_class(df_3months)\n",
    "df_6months = transform_class(df_6months)\n",
    "df_12months = transform_class(df_12months)\n",
    "df_last3months = transform_class(df_last3months)"
   ]
  },
  {
   "cell_type": "markdown",
   "metadata": {},
   "source": [
    "# Descriptive analysis - deciding on time range to work with\n",
    "\n",
    "Work with complete 2021 year -> df = df_12months\n",
    "\n",
    "Very imbalanced dataset (as expected)"
   ]
  },
  {
   "cell_type": "code",
   "execution_count": 9,
   "metadata": {},
   "outputs": [
    {
     "name": "stdout",
     "output_type": "stream",
     "text": [
      "Number of clients in January 2021: 111074\n",
      "Number of transactions in January 2021: 683\n",
      "Number of clients in January-March 2021: 168709\n",
      "Number of transactions in January-March 2021: 1340\n",
      "Number of clients in January-June 2021: 267157\n",
      "Number of transactions in January-June 2021: 2233\n",
      "Number of clients in January-December 2021: 442104\n",
      "Number of transactions in January-December 2021: 7651\n",
      "Number of clients in October-December 2021: 129384\n",
      "Number of transactions in October-December 2021: 4638\n"
     ]
    }
   ],
   "source": [
    "print(\"Number of clients in January 2021:\", len(df_1month))\n",
    "print(\"Number of transactions in January 2021:\", sum(df_1month['Transactions']))\n",
    "\n",
    "print(\"Number of clients in January-March 2021:\", len(df_3months))\n",
    "print(\"Number of transactions in January-March 2021:\", sum(df_3months['Transactions']))\n",
    "\n",
    "print(\"Number of clients in January-June 2021:\", len(df_6months))\n",
    "print(\"Number of transactions in January-June 2021:\", sum(df_6months['Transactions']))\n",
    "\n",
    "print(\"Number of clients in January-December 2021:\", len(df_12months))\n",
    "print(\"Number of transactions in January-December 2021:\", sum(df_12months['Transactions']))\n",
    "\n",
    "print(\"Number of clients in October-December 2021:\", len(df_last3months))\n",
    "print(\"Number of transactions in October-December 2021:\", sum(df_last3months['Transactions']))"
   ]
  },
  {
   "cell_type": "code",
   "execution_count": 10,
   "metadata": {},
   "outputs": [],
   "source": [
    "df = df_12months"
   ]
  },
  {
   "cell_type": "markdown",
   "metadata": {},
   "source": [
    "TODO \n",
    "* Annotation of following plot would be nice - indicating if some specific marketing campaigns existed on observed peaks\n",
    "* Also add title, etc\n",
    "\n",
    "Attention! \n",
    "* Number of transactions != number of client IDs with transactions (more than one transaction may exist)"
   ]
  },
  {
   "cell_type": "code",
   "execution_count": 52,
   "metadata": {},
   "outputs": [
    {
     "name": "stdout",
     "output_type": "stream",
     "text": [
      "Total number of rows (client IDs, new or repeated): 442104\n",
      "Total number of distinct client IDs: 323353\n",
      "Avg number of clientIDs per day: 1211.0\n"
     ]
    }
   ],
   "source": [
    "test1 = df.clientID.value_counts()\n",
    "print('Total number of rows (client IDs, new or repeated):', len(df))\n",
    "print('Total number of distinct client IDs:', len(test1))\n",
    "print('Avg number of clientIDs per day:', round(len(df)/365, 2))"
   ]
  },
  {
   "cell_type": "code",
   "execution_count": 53,
   "metadata": {},
   "outputs": [
    {
     "name": "stdout",
     "output_type": "stream",
     "text": [
      "Total number of transactions:  7651\n",
      "Avg number of transactions per day: 20.96\n",
      "Total number of clientIDs with transactions: 6616\n",
      "Total number of clientIDs with more than 1 transaction: 382\n"
     ]
    }
   ],
   "source": [
    "print('Total number of transactions: ', df['Transactions'].sum())\n",
    "print('Avg number of transactions per day:', round(df['Transactions'].sum()/365, 2))\n",
    "df_transactions = df[df['Transactions'] > 0]\n",
    "print('Total number of clientIDs with transactions:', len(df_transactions.clientID.value_counts()))\n",
    "df_transactions_over1 = df[df['Transactions'] > 1]\n",
    "print('Total number of clientIDs with more than 1 transaction:', len(df_transactions_over1.clientID.value_counts()))"
   ]
  },
  {
   "cell_type": "code",
   "execution_count": 47,
   "metadata": {},
   "outputs": [
    {
     "name": "stdout",
     "output_type": "stream",
     "text": [
      "Number of transactions from clientID that appear just once:\n",
      "Number of transactions from clientIDs that appear more than once:\n"
     ]
    }
   ],
   "source": [
    "# ----- ONGOING\n",
    "\n",
    "print('Number of transactions from clientID that appear just once:')\n",
    "print('Number of transactions from clientIDs that appear more than once:')"
   ]
  },
  {
   "cell_type": "markdown",
   "metadata": {},
   "source": [
    "TODO - se following code "
   ]
  },
  {
   "cell_type": "code",
   "execution_count": null,
   "metadata": {},
   "outputs": [],
   "source": [
    "# calculate for the whole year 2021\n",
    "# Number of new/old users - from Supermetrics\n",
    "# Number of transactions from new/old users "
   ]
  },
  {
   "cell_type": "code",
   "execution_count": 11,
   "metadata": {},
   "outputs": [
    {
     "data": {
      "image/png": "[encoded data removed]",
      "text/plain": [
       "<Figure size 432x288 with 1 Axes>"
      ]
     },
     "metadata": {
      "needs_background": "light"
     },
     "output_type": "display_data"
    }
   ],
   "source": [
    "# extract clients per day = number of rows  \n",
    "df['Date'].value_counts().plot()\n",
    "plt.title(\"Number of clientIDs\")\n",
    "plt.show()"
   ]
  },
  {
   "cell_type": "markdown",
   "metadata": {},
   "source": [
    "Something weird is happening on a single day in December"
   ]
  },
  {
   "cell_type": "code",
   "execution_count": 30,
   "metadata": {},
   "outputs": [
    {
     "data": {
      "image/png": "[encoded data removed]",
      "text/plain": [
       "<Figure size 432x288 with 1 Axes>"
      ]
     },
     "metadata": {
      "needs_background": "light"
     },
     "output_type": "display_data"
    }
   ],
   "source": [
    "# extract number of transactions = sum of transactions per day\n",
    "df.groupby(['Date'])['Transactions'].sum().plot()\n",
    "plt.title('Number of daily transactions in 2021')\n",
    "plt.show()"
   ]
  },
  {
   "cell_type": "code",
   "execution_count": 13,
   "metadata": {},
   "outputs": [
    {
     "data": {
      "text/plain": [
       "Date\n",
       "2021-11-30    1421\n",
       "Name: Transactions, dtype: int64"
      ]
     },
     "execution_count": 13,
     "metadata": {},
     "output_type": "execute_result"
    }
   ],
   "source": [
    "df2 = df[['Date', 'Transactions']]\n",
    "df2 = df2.groupby(['Date'])['Transactions'].sum()\n",
    "\n",
    "# 30.11.2021 1421 transactions exist. \n",
    "df2[df2 > 1000]"
   ]
  },
  {
   "cell_type": "code",
   "execution_count": 14,
   "metadata": {},
   "outputs": [
    {
     "data": {
      "image/png": "[encoded data removed]",
      "text/plain": [
       "<Figure size 432x288 with 1 Axes>"
      ]
     },
     "metadata": {
      "needs_background": "light"
     },
     "output_type": "display_data"
    }
   ],
   "source": [
    "max(df2[df2 < 1000])\n",
    "# substitute 1421 transactions with next max. value (203)\n",
    "df2[df2 > 1000] = 203 \n",
    "df2.plot()\n",
    "plt.title('Transactions per day, excl. transactions = 1.421')\n",
    "plt.show()\n"
   ]
  },
  {
   "cell_type": "code",
   "execution_count": 15,
   "metadata": {},
   "outputs": [],
   "source": [
    "#print(\"transactions on 01.01.2021: \", len(df1.loc[(df1['Date'] == \"2021-01-01\") & (df1['Transactions'] >1)]))\n",
    "#print(\"transactions on 02.01.2021:\", len(df1[(df1['Date'] == \"2021-01-02\") & (df1['Transactions'] > 1)]))\n",
    "#print(\"transactions on 03.01.2021:\", len(df1[(df1['Date'] == \"2021-01-03\") & (df1['Transactions'] >=1)]))"
   ]
  },
  {
   "cell_type": "code",
   "execution_count": 16,
   "metadata": {},
   "outputs": [],
   "source": [
    "# as reference, import data from 2020 and check number of daily transactions \n",
    "url_12months_2020 = constants_MT.url_12months_2020\n",
    "response_12months_2020 = requests.get(url_12months_2020)\n",
    "df_12months_2020 = url_to_df(url_12months_2020, response_12months_2020)\n",
    "df_12months_2020 = transform_class(df_12months_2020)"
   ]
  },
  {
   "cell_type": "code",
   "execution_count": 34,
   "metadata": {},
   "outputs": [
    {
     "data": {
      "image/png": "[encoded data removed]",
      "text/plain": [
       "<Figure size 432x288 with 1 Axes>"
      ]
     },
     "metadata": {
      "needs_background": "light"
     },
     "output_type": "display_data"
    }
   ],
   "source": [
    "# check general trend in 2020 \n",
    "df3 = df_12months_2020[['Date', 'Transactions']]\n",
    "df3 = df3.groupby(['Date'])['Transactions'].sum()\n",
    "df3.plot()\n",
    "plt.title('Number of daily transactions in 2020, including #givingTuesday')\n",
    "plt.show()"
   ]
  },
  {
   "cell_type": "code",
   "execution_count": 37,
   "metadata": {},
   "outputs": [],
   "source": [
    "max(df3[df3 < 1000])\n",
    "# substitute number of transactions in GivingTuesday with next max. value \n",
    "df3[df3 > 1000] = 404"
   ]
  },
  {
   "cell_type": "code",
   "execution_count": null,
   "metadata": {},
   "outputs": [],
   "source": [
    "# check trend in 2020 without #givingTuesday \n",
    "df3 = df_12months_2020[['Date', 'Transactions']]\n",
    "df3 = df3.groupby(['Date'])['Transactions'].sum()\n",
    "df3.plot()\n",
    "plt.title('Number of daily transactions in 2020, including #givingTuesday')\n",
    "plt.show()"
   ]
  },
  {
   "cell_type": "markdown",
   "metadata": {},
   "source": [
    "In 2020, the date with highest number of transactions of the year is 01.12.2020. As a reminder, that date was 30.11 in 2021. \n",
    "\n",
    "**That correspond to #givingTuesday 2020 (01.12) and 2021 (30.11)** \n",
    "\n",
    "TODO \n",
    "* Figure out if we should get rid of information/transactions on giving Tuesday - or just study the behavior on that specific day vs rest of days \n",
    "* Figure out if some other special marketing campaigns exist during the year and try to consider if they may have an effect on the analysis \n",
    "* Consider if substituting number of transactions in giving tuesday with value of second peak makes any sense "
   ]
  },
  {
   "cell_type": "code",
   "execution_count": 29,
   "metadata": {},
   "outputs": [
    {
     "data": {
      "text/plain": [
       "Date\n",
       "2020-12-01    1782\n",
       "Name: Transactions, dtype: int64"
      ]
     },
     "execution_count": 29,
     "metadata": {},
     "output_type": "execute_result"
    }
   ],
   "source": [
    "df3[df3 > 1000]"
   ]
  },
  {
   "cell_type": "code",
   "execution_count": 33,
   "metadata": {},
   "outputs": [
    {
     "name": "stderr",
     "output_type": "stream",
     "text": [
      "c:\\Users\\carol\\OneDrive\\Escritorio\\FH Kufstein\\MT\\analysis\\python\\venv_mt\\lib\\site-packages\\pandas\\core\\arraylike.py:40: UserWarning: Parsing '30.11.2021' in DD/MM/YYYY format. Provide format or specify infer_datetime_format=True for consistent parsing.\n",
      "  return self._cmp_method(other, operator.eq)\n"
     ]
    },
    {
     "data": {
      "text/html": [
       "<div>\n",
       "<style scoped>\n",
       "    .dataframe tbody tr th:only-of-type {\n",
       "        vertical-align: middle;\n",
       "    }\n",
       "\n",
       "    .dataframe tbody tr th {\n",
       "        vertical-align: top;\n",
       "    }\n",
       "\n",
       "    .dataframe thead th {\n",
       "        text-align: right;\n",
       "    }\n",
       "</style>\n",
       "<table border=\"1\" class=\"dataframe\">\n",
       "  <thead>\n",
       "    <tr style=\"text-align: right;\">\n",
       "      <th></th>\n",
       "      <th>clientID</th>\n",
       "      <th>Date</th>\n",
       "      <th>Channel group</th>\n",
       "      <th>Users</th>\n",
       "      <th>Transactions</th>\n",
       "      <th>Transaction revenue</th>\n",
       "    </tr>\n",
       "  </thead>\n",
       "  <tbody>\n",
       "    <tr>\n",
       "      <th>384814</th>\n",
       "      <td>780848.1638289758</td>\n",
       "      <td>2021-11-30</td>\n",
       "      <td>Email</td>\n",
       "      <td>1</td>\n",
       "      <td>1</td>\n",
       "      <td>79.2334</td>\n",
       "    </tr>\n",
       "    <tr>\n",
       "      <th>384815</th>\n",
       "      <td>909937.1636656983</td>\n",
       "      <td>2021-11-30</td>\n",
       "      <td>Email</td>\n",
       "      <td>1</td>\n",
       "      <td>1</td>\n",
       "      <td>21.1289</td>\n",
       "    </tr>\n",
       "    <tr>\n",
       "      <th>384816</th>\n",
       "      <td>1949950.1638258402</td>\n",
       "      <td>2021-11-30</td>\n",
       "      <td>Email</td>\n",
       "      <td>1</td>\n",
       "      <td>1</td>\n",
       "      <td>79.2334</td>\n",
       "    </tr>\n",
       "    <tr>\n",
       "      <th>384817</th>\n",
       "      <td>2073168.1638281792</td>\n",
       "      <td>2021-11-30</td>\n",
       "      <td>Generic Paid Search</td>\n",
       "      <td>1</td>\n",
       "      <td>0</td>\n",
       "      <td>0.0000</td>\n",
       "    </tr>\n",
       "    <tr>\n",
       "      <th>384818</th>\n",
       "      <td>2136460.1638305839</td>\n",
       "      <td>2021-11-30</td>\n",
       "      <td>Email</td>\n",
       "      <td>1</td>\n",
       "      <td>0</td>\n",
       "      <td>0.0000</td>\n",
       "    </tr>\n",
       "    <tr>\n",
       "      <th>...</th>\n",
       "      <td>...</td>\n",
       "      <td>...</td>\n",
       "      <td>...</td>\n",
       "      <td>...</td>\n",
       "      <td>...</td>\n",
       "      <td>...</td>\n",
       "    </tr>\n",
       "    <tr>\n",
       "      <th>388926</th>\n",
       "      <td>2043942088.1637656260</td>\n",
       "      <td>2021-11-30</td>\n",
       "      <td>Direct</td>\n",
       "      <td>1</td>\n",
       "      <td>0</td>\n",
       "      <td>0.0000</td>\n",
       "    </tr>\n",
       "    <tr>\n",
       "      <th>388927</th>\n",
       "      <td>2044422961.1638290305</td>\n",
       "      <td>2021-11-30</td>\n",
       "      <td>Email</td>\n",
       "      <td>1</td>\n",
       "      <td>1</td>\n",
       "      <td>264.1113</td>\n",
       "    </tr>\n",
       "    <tr>\n",
       "      <th>388928</th>\n",
       "      <td>2045311519.1608800768</td>\n",
       "      <td>2021-11-30</td>\n",
       "      <td>Email</td>\n",
       "      <td>1</td>\n",
       "      <td>1</td>\n",
       "      <td>105.6445</td>\n",
       "    </tr>\n",
       "    <tr>\n",
       "      <th>388929</th>\n",
       "      <td>2045356680.1630611955</td>\n",
       "      <td>2021-11-30</td>\n",
       "      <td>Organic Search</td>\n",
       "      <td>1</td>\n",
       "      <td>0</td>\n",
       "      <td>0.0000</td>\n",
       "    </tr>\n",
       "    <tr>\n",
       "      <th>388930</th>\n",
       "      <td>2045575823.1638269917</td>\n",
       "      <td>2021-11-30</td>\n",
       "      <td>Email</td>\n",
       "      <td>1</td>\n",
       "      <td>1</td>\n",
       "      <td>36.9756</td>\n",
       "    </tr>\n",
       "  </tbody>\n",
       "</table>\n",
       "<p>4117 rows × 6 columns</p>\n",
       "</div>"
      ],
      "text/plain": [
       "0                    clientID       Date        Channel group  Users  \\\n",
       "384814      780848.1638289758 2021-11-30                Email      1   \n",
       "384815      909937.1636656983 2021-11-30                Email      1   \n",
       "384816     1949950.1638258402 2021-11-30                Email      1   \n",
       "384817     2073168.1638281792 2021-11-30  Generic Paid Search      1   \n",
       "384818     2136460.1638305839 2021-11-30                Email      1   \n",
       "...                       ...        ...                  ...    ...   \n",
       "388926  2043942088.1637656260 2021-11-30               Direct      1   \n",
       "388927  2044422961.1638290305 2021-11-30                Email      1   \n",
       "388928  2045311519.1608800768 2021-11-30                Email      1   \n",
       "388929  2045356680.1630611955 2021-11-30       Organic Search      1   \n",
       "388930  2045575823.1638269917 2021-11-30                Email      1   \n",
       "\n",
       "0       Transactions  Transaction revenue  \n",
       "384814             1              79.2334  \n",
       "384815             1              21.1289  \n",
       "384816             1              79.2334  \n",
       "384817             0               0.0000  \n",
       "384818             0               0.0000  \n",
       "...              ...                  ...  \n",
       "388926             0               0.0000  \n",
       "388927             1             264.1113  \n",
       "388928             1             105.6445  \n",
       "388929             0               0.0000  \n",
       "388930             1              36.9756  \n",
       "\n",
       "[4117 rows x 6 columns]"
      ]
     },
     "execution_count": 33,
     "metadata": {},
     "output_type": "execute_result"
    }
   ],
   "source": [
    "df[df['Date'] == '30.11.2021']"
   ]
  }
 ],
 "metadata": {
  "interpreter": {
   "hash": "0da7e18f76992a89989144591b8b9bd16e9486936d2da72dac2491c49e86e55b"
  },
  "kernelspec": {
   "display_name": "Python 3.9.0 ('venv_mt': venv)",
   "language": "python",
   "name": "python3"
  },
  "language_info": {
   "codemirror_mode": {
    "name": "ipython",
    "version": 3
   },
   "file_extension": ".py",
   "mimetype": "text/x-python",
   "name": "python",
   "nbconvert_exporter": "python",
   "pygments_lexer": "ipython3",
   "version": "3.9.0"
  },
  "orig_nbformat": 4
 },
 "nbformat": 4,
 "nbformat_minor": 2
}
